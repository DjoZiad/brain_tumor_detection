{
 "cells": [
  {
   "cell_type": "code",
   "execution_count": null,
   "id": "2ddebfe5",
   "metadata": {},
   "outputs": [],
   "source": [
    "import torch"
   ]
  },
  {
   "cell_type": "code",
   "execution_count": null,
   "id": "ca87c7cc",
   "metadata": {},
   "outputs": [],
   "source": [
    "torch.cuda.get_device_name()"
   ]
  },
  {
   "cell_type": "code",
   "execution_count": null,
   "id": "4c041a29",
   "metadata": {},
   "outputs": [],
   "source": [
    "from google.colab import drive\n",
    "drive.mount('/content/drive')"
   ]
  },
  {
   "cell_type": "code",
   "execution_count": null,
   "id": "a42fcced",
   "metadata": {},
   "outputs": [],
   "source": [
    "%cd drive/MyDrive/My_project/"
   ]
  },
  {
   "cell_type": "code",
   "execution_count": null,
   "id": "993b249e",
   "metadata": {},
   "outputs": [],
   "source": [
    "!git clone https://github.com/ultralytics/yolov5"
   ]
  },
  {
   "cell_type": "code",
   "execution_count": null,
   "id": "b218916a",
   "metadata": {},
   "outputs": [],
   "source": [
    "%cd yolov5"
   ]
  },
  {
   "cell_type": "code",
   "execution_count": null,
   "id": "af6be600",
   "metadata": {},
   "outputs": [],
   "source": [
    "!pip install -r requirements.txt"
   ]
  },
  {
   "cell_type": "code",
   "execution_count": null,
   "id": "d8b9cbd3",
   "metadata": {},
   "outputs": [],
   "source": [
    "from matplotlib import pyplot as plt\n",
    "import numpy as np"
   ]
  },
  {
   "cell_type": "code",
   "execution_count": null,
   "id": "592c3b7f",
   "metadata": {},
   "outputs": [],
   "source": [
    "!python train.py --img 1024 --batch 16 --epochs 1000 --data custom_data.yaml --weights yolov5s.pt"
   ]
  },
  {
   "cell_type": "code",
   "execution_count": null,
   "id": "484c70a2",
   "metadata": {},
   "outputs": [],
   "source": [
    "!python train.py --img 1024 --batch 16 --epochs 1000 --data custom_data.yaml --weights yolov5m.pt"
   ]
  },
  {
   "cell_type": "code",
   "execution_count": null,
   "id": "aba505e2",
   "metadata": {},
   "outputs": [],
   "source": [
    "!python train.py --img 1024 --batch 8 --epochs 1000 --data custom_data.yaml --weights yolov5l.pt"
   ]
  },
  {
   "cell_type": "code",
   "execution_count": null,
   "id": "d121bfe2",
   "metadata": {},
   "outputs": [],
   "source": []
  }
 ],
 "metadata": {
  "kernelspec": {
   "display_name": "Python 3 (ipykernel)",
   "language": "python",
   "name": "python3"
  },
  "language_info": {
   "codemirror_mode": {
    "name": "ipython",
    "version": 3
   },
   "file_extension": ".py",
   "mimetype": "text/x-python",
   "name": "python",
   "nbconvert_exporter": "python",
   "pygments_lexer": "ipython3",
   "version": "3.9.7"
  }
 },
 "nbformat": 4,
 "nbformat_minor": 5
}
